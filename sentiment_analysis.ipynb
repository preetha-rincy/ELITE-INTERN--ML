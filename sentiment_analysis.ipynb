{
 "cells": [
  {
   "cell_type": "markdown",
   "metadata": {},
   "source": [
    "# Sentiment Analysis with NLP\n",
    "\n",
    "This notebook demonstrates sentiment analysis on customer reviews using TF-IDF vectorization and Logistic Regression."
   ]
  },
  {
   "cell_type": "markdown",
   "metadata": {},
   "source": [
    "## 1. Import Libraries"
   ]
  },
  {
   "cell_type": "code",
   "execution_count": 1,
   "metadata": {},
   "outputs": [],
   "source": [
    "# Import necessary libraries\n",
    "import pandas as pd\n",
    "import numpy as np\n",
    "import matplotlib.pyplot as plt\n",
    "import seaborn as sns\n",
    "\n",
    "# NLP libraries\n",
    "import nltk\n",
    "from nltk.corpus import stopwords\n",
    "from nltk.stem import WordNetLemmatizer\n",
    "from nltk.tokenize import word_tokenize\n",
    "import re\n",
    "\n",
    "# Machine learning libraries\n",
    "from sklearn.model_selection import train_test_split\n",
    "from sklearn.feature_extraction.text import TfidfVectorizer\n",
    "from sklearn.linear_model import LogisticRegression\n",
    "from sklearn.metrics import classification_report, confusion_matrix, accuracy_score\n",
    "\n",
    "# Set random seed for reproducibility\n",
    "np.random.seed(42)\n",
    "\n",
    "# Set up visualization settings\n",
    "plt.style.use('ggplot')\n",
    "%matplotlib inline"
   ]
  },
  {
   "cell_type": "code",
   "execution_count": 2,
   "metadata": {},
   "outputs": [
    {
     "name": "stderr",
     "output_type": "stream",
     "text": [
      "[nltk_data] Downloading package punkt to C:\\Users\\Gayathri\n",
      "[nltk_data]     Prasad\\AppData\\Roaming\\nltk_data...\n",
      "[nltk_data]   Package punkt is already up-to-date!\n",
      "[nltk_data] Downloading package stopwords to C:\\Users\\Gayathri\n",
      "[nltk_data]     Prasad\\AppData\\Roaming\\nltk_data...\n",
      "[nltk_data]   Package stopwords is already up-to-date!\n",
      "[nltk_data] Downloading package wordnet to C:\\Users\\Gayathri\n",
      "[nltk_data]     Prasad\\AppData\\Roaming\\nltk_data...\n",
      "[nltk_data]   Package wordnet is already up-to-date!\n"
     ]
    },
    {
     "data": {
      "text/plain": [
       "True"
      ]
     },
     "execution_count": 2,
     "metadata": {},
     "output_type": "execute_result"
    }
   ],
   "source": [
    "# Download necessary NLTK resources\n",
    "nltk.download('punkt')\n",
    "nltk.download('stopwords')\n",
    "nltk.download('wordnet')"
   ]
  },
  {
   "cell_type": "markdown",
   "metadata": {},
   "source": [
    "## 2. Load and Explore the Dataset\n",
    "\n",
    "For this demonstration, I create a sample dataset of customer reviews."
   ]
  },
  {
   "cell_type": "code",
   "execution_count": 3,
   "metadata": {},
   "outputs": [
    {
     "data": {
      "text/html": [
       "<div>\n",
       "<style scoped>\n",
       "    .dataframe tbody tr th:only-of-type {\n",
       "        vertical-align: middle;\n",
       "    }\n",
       "\n",
       "    .dataframe tbody tr th {\n",
       "        vertical-align: top;\n",
       "    }\n",
       "\n",
       "    .dataframe thead th {\n",
       "        text-align: right;\n",
       "    }\n",
       "</style>\n",
       "<table border=\"1\" class=\"dataframe\">\n",
       "  <thead>\n",
       "    <tr style=\"text-align: right;\">\n",
       "      <th></th>\n",
       "      <th>review</th>\n",
       "      <th>sentiment</th>\n",
       "    </tr>\n",
       "  </thead>\n",
       "  <tbody>\n",
       "    <tr>\n",
       "      <th>0</th>\n",
       "      <td>This product is amazing! I love it so much.</td>\n",
       "      <td>positive</td>\n",
       "    </tr>\n",
       "    <tr>\n",
       "      <th>1</th>\n",
       "      <td>Worst purchase ever. Complete waste of money.</td>\n",
       "      <td>negative</td>\n",
       "    </tr>\n",
       "    <tr>\n",
       "      <th>2</th>\n",
       "      <td>The quality is good but shipping took too long.</td>\n",
       "      <td>neutral</td>\n",
       "    </tr>\n",
       "    <tr>\n",
       "      <th>3</th>\n",
       "      <td>I'm very satisfied with my purchase, would buy...</td>\n",
       "      <td>positive</td>\n",
       "    </tr>\n",
       "    <tr>\n",
       "      <th>4</th>\n",
       "      <td>Terrible customer service, will never shop her...</td>\n",
       "      <td>negative</td>\n",
       "    </tr>\n",
       "  </tbody>\n",
       "</table>\n",
       "</div>"
      ],
      "text/plain": [
       "                                              review sentiment\n",
       "0        This product is amazing! I love it so much.  positive\n",
       "1      Worst purchase ever. Complete waste of money.  negative\n",
       "2    The quality is good but shipping took too long.   neutral\n",
       "3  I'm very satisfied with my purchase, would buy...  positive\n",
       "4  Terrible customer service, will never shop her...  negative"
      ]
     },
     "execution_count": 3,
     "metadata": {},
     "output_type": "execute_result"
    }
   ],
   "source": [
    "# Create a sample dataset of customer reviews\n",
    "data = {\n",
    "    'review': [\n",
    "        \"This product is amazing! I love it so much.\",\n",
    "        \"Worst purchase ever. Complete waste of money.\",\n",
    "        \"The quality is good but shipping took too long.\",\n",
    "        \"I'm very satisfied with my purchase, would buy again.\",\n",
    "        \"Terrible customer service, will never shop here again.\",\n",
    "        \"The product works as expected, good value for money.\",\n",
    "        \"Not worth the price, very disappointed.\",\n",
    "        \"Excellent product and fast delivery!\",\n",
    "        \"The item arrived damaged and customer service was unhelpful.\",\n",
    "        \"Average product, nothing special about it.\",\n",
    "        \"This exceeded my expectations, highly recommend!\",\n",
    "        \"Defective product, had to return it immediately.\",\n",
    "        \"Good quality but a bit overpriced.\",\n",
    "        \"Love everything about this product, perfect purchase!\",\n",
    "        \"Misleading description, the product is much smaller than advertised.\"\n",
    "    ],\n",
    "    'sentiment': [\n",
    "        'positive',\n",
    "        'negative',\n",
    "        'neutral',\n",
    "        'positive',\n",
    "        'negative',\n",
    "        'positive',\n",
    "        'negative',\n",
    "        'positive',\n",
    "        'negative',\n",
    "        'neutral',\n",
    "        'positive',\n",
    "        'negative',\n",
    "        'neutral',\n",
    "        'positive',\n",
    "        'negative'\n",
    "    ]\n",
    "}\n",
    "\n",
    "df = pd.DataFrame(data)\n",
    "df.head()"
   ]
  },
  {
   "cell_type": "code",
   "execution_count": 4,
   "metadata": {},
   "outputs": [
    {
     "name": "stdout",
     "output_type": "stream",
     "text": [
      "Dataset shape: (15, 2)\n",
      "\n",
      "Dataset info:\n",
      "<class 'pandas.core.frame.DataFrame'>\n",
      "RangeIndex: 15 entries, 0 to 14\n",
      "Data columns (total 2 columns):\n",
      " #   Column     Non-Null Count  Dtype \n",
      "---  ------     --------------  ----- \n",
      " 0   review     15 non-null     object\n",
      " 1   sentiment  15 non-null     object\n",
      "dtypes: object(2)\n",
      "memory usage: 368.0+ bytes\n",
      "\n",
      "Sentiment distribution:\n",
      "sentiment\n",
      "positive    6\n",
      "negative    6\n",
      "neutral     3\n",
      "Name: count, dtype: int64\n"
     ]
    }
   ],
   "source": [
    "# Basic information about the dataset\n",
    "print(f\"Dataset shape: {df.shape}\")\n",
    "print(\"\\nDataset info:\")\n",
    "df.info()\n",
    "print(\"\\nSentiment distribution:\")\n",
    "print(df['sentiment'].value_counts())"
   ]
  },
  {
   "cell_type": "code",
   "execution_count": 5,
   "metadata": {},
   "outputs": [
    {
     "name": "stderr",
     "output_type": "stream",
     "text": [
      "C:\\Users\\Gayathri Prasad\\AppData\\Local\\Temp\\ipykernel_7604\\843607928.py:3: FutureWarning: \n",
      "\n",
      "Passing `palette` without assigning `hue` is deprecated and will be removed in v0.14.0. Assign the `x` variable to `hue` and set `legend=False` for the same effect.\n",
      "\n",
      "  sns.countplot(x='sentiment', data=df, palette='viridis')\n"
     ]
    },
    {
     "data": {
      "image/png": "[encoded data removed]",
      "text/plain": [
       "<Figure size 800x600 with 1 Axes>"
      ]
     },
     "metadata": {},
     "output_type": "display_data"
    }
   ],
   "source": [
    "# Visualize sentiment distribution\n",
    "plt.figure(figsize=(8, 6))\n",
    "sns.countplot(x='sentiment', data=df, palette='viridis')\n",
    "plt.title('Distribution of Sentiment Classes')\n",
    "plt.xlabel('Sentiment')\n",
    "plt.ylabel('Count')\n",
    "plt.xticks(rotation=0)\n",
    "plt.show()"
   ]
  },
  {
   "cell_type": "markdown",
   "metadata": {},
   "source": [
    "## 3. Text Preprocessing\n",
    "\n",
    "I perform the following preprocessing steps:\n",
    "1. Convert text to lowercase\n",
    "2. Remove special characters and numbers\n",
    "3. Remove stopwords\n",
    "4. Lemmatization"
   ]
  },
  {
   "cell_type": "code",
   "execution_count": 6,
   "metadata": {},
   "outputs": [],
   "source": [
    "def preprocess_text(text):\n",
    "    # Convert to lowercase\n",
    "    text = text.lower()\n",
    "    \n",
    "    # Remove special characters and numbers\n",
    "    text = re.sub(r'[^a-zA-Z\\s]', '', text)\n",
    "    \n",
    "    # Tokenize\n",
    "    tokens = word_tokenize(text)\n",
    "    \n",
    "    # Remove stopwords\n",
    "    stop_words = set(stopwords.words('english'))\n",
    "    tokens = [word for word in tokens if word not in stop_words]\n",
    "    \n",
    "    # Lemmatization\n",
    "    lemmatizer = WordNetLemmatizer()\n",
    "    tokens = [lemmatizer.lemmatize(word) for word in tokens]\n",
    "    \n",
    "    # Join tokens back into text\n",
    "    processed_text = ' '.join(tokens)\n",
    "    \n",
    "    return processed_text"
   ]
  },
  {
   "cell_type": "code",
   "execution_count": 7,
   "metadata": {},
   "outputs": [
    {
     "data": {
      "text/html": [
       "<div>\n",
       "<style scoped>\n",
       "    .dataframe tbody tr th:only-of-type {\n",
       "        vertical-align: middle;\n",
       "    }\n",
       "\n",
       "    .dataframe tbody tr th {\n",
       "        vertical-align: top;\n",
       "    }\n",
       "\n",
       "    .dataframe thead th {\n",
       "        text-align: right;\n",
       "    }\n",
       "</style>\n",
       "<table border=\"1\" class=\"dataframe\">\n",
       "  <thead>\n",
       "    <tr style=\"text-align: right;\">\n",
       "      <th></th>\n",
       "      <th>review</th>\n",
       "      <th>processed_review</th>\n",
       "    </tr>\n",
       "  </thead>\n",
       "  <tbody>\n",
       "    <tr>\n",
       "      <th>0</th>\n",
       "      <td>This product is amazing! I love it so much.</td>\n",
       "      <td>product amazing love much</td>\n",
       "    </tr>\n",
       "    <tr>\n",
       "      <th>1</th>\n",
       "      <td>Worst purchase ever. Complete waste of money.</td>\n",
       "      <td>worst purchase ever complete waste money</td>\n",
       "    </tr>\n",
       "    <tr>\n",
       "      <th>2</th>\n",
       "      <td>The quality is good but shipping took too long.</td>\n",
       "      <td>quality good shipping took long</td>\n",
       "    </tr>\n",
       "    <tr>\n",
       "      <th>3</th>\n",
       "      <td>I'm very satisfied with my purchase, would buy again.</td>\n",
       "      <td>im satisfied purchase would buy</td>\n",
       "    </tr>\n",
       "    <tr>\n",
       "      <th>4</th>\n",
       "      <td>Terrible customer service, will never shop here again.</td>\n",
       "      <td>terrible customer service never shop</td>\n",
       "    </tr>\n",
       "  </tbody>\n",
       "</table>\n",
       "</div>"
      ],
      "text/plain": [
       "                                                   review  \\\n",
       "0             This product is amazing! I love it so much.   \n",
       "1           Worst purchase ever. Complete waste of money.   \n",
       "2         The quality is good but shipping took too long.   \n",
       "3   I'm very satisfied with my purchase, would buy again.   \n",
       "4  Terrible customer service, will never shop here again.   \n",
       "\n",
       "                           processed_review  \n",
       "0                 product amazing love much  \n",
       "1  worst purchase ever complete waste money  \n",
       "2           quality good shipping took long  \n",
       "3           im satisfied purchase would buy  \n",
       "4      terrible customer service never shop  "
      ]
     },
     "execution_count": 7,
     "metadata": {},
     "output_type": "execute_result"
    }
   ],
   "source": [
    "# Apply preprocessing to the reviews\n",
    "df['processed_review'] = df['review'].apply(preprocess_text)\n",
    "\n",
    "# Display original and processed reviews\n",
    "pd.set_option('display.max_colwidth', None)\n",
    "df[['review', 'processed_review']].head()"
   ]
  },
  {
   "cell_type": "markdown",
   "metadata": {},
   "source": [
    "## 4. Feature Engineering with TF-IDF Vectorization\n",
    "\n",
    "TF-IDF (Term Frequency-Inverse Document Frequency) is a numerical statistic that reflects how important a word is to a document in a collection. I use it to convert text data into numerical features."
   ]
  },
  {
   "cell_type": "code",
   "execution_count": 8,
   "metadata": {},
   "outputs": [
    {
     "name": "stdout",
     "output_type": "stream",
     "text": [
      "Training set size: 10\n",
      "Testing set size: 5\n"
     ]
    }
   ],
   "source": [
    "# Split the data into training and testing sets\n",
    "X = df['processed_review']\n",
    "y = df['sentiment']\n",
    "\n",
    "X_train, X_test, y_train, y_test = train_test_split(X, y, test_size=0.3, random_state=42, stratify=y)\n",
    "\n",
    "print(f\"Training set size: {X_train.shape[0]}\")\n",
    "print(f\"Testing set size: {X_test.shape[0]}\")"
   ]
  },
  {
   "cell_type": "code",
   "execution_count": 9,
   "metadata": {},
   "outputs": [
    {
     "name": "stdout",
     "output_type": "stream",
     "text": [
      "TF-IDF training matrix shape: (10, 4)\n",
      "TF-IDF testing matrix shape: (5, 4)\n"
     ]
    }
   ],
   "source": [
    "# Create TF-IDF vectorizer\n",
    "tfidf_vectorizer = TfidfVectorizer(max_features=1000, min_df=2, max_df=0.8)\n",
    "\n",
    "# Transform the training and testing data\n",
    "X_train_tfidf = tfidf_vectorizer.fit_transform(X_train)\n",
    "X_test_tfidf = tfidf_vectorizer.transform(X_test)\n",
    "\n",
    "print(f\"TF-IDF training matrix shape: {X_train_tfidf.shape}\")\n",
    "print(f\"TF-IDF testing matrix shape: {X_test_tfidf.shape}\")"
   ]
  },
  {
   "cell_type": "code",
   "execution_count": 10,
   "metadata": {},
   "outputs": [
    {
     "name": "stdout",
     "output_type": "stream",
     "text": [
      "Number of features: 4\n",
      "Sample features: ['love' 'much' 'product' 'purchase']\n"
     ]
    }
   ],
   "source": [
    "# Display the feature names (words) from the TF-IDF vectorizer\n",
    "feature_names = tfidf_vectorizer.get_feature_names_out()\n",
    "print(f\"Number of features: {len(feature_names)}\")\n",
    "print(f\"Sample features: {feature_names[:20]}\")"
   ]
  },
  {
   "cell_type": "markdown",
   "metadata": {},
   "source": [
    "## 5. Model Training with Logistic Regression\n",
    "\n",
    "I use Logistic Regression for our sentiment classification task."
   ]
  },
  {
   "cell_type": "code",
   "execution_count": 11,
   "metadata": {},
   "outputs": [
    {
     "name": "stdout",
     "output_type": "stream",
     "text": [
      "Accuracy: 0.4000\n"
     ]
    }
   ],
   "source": [
    "# Initialize and train the Logistic Regression model\n",
    "lr_model = LogisticRegression(C=1.0, max_iter=1000, random_state=42)\n",
    "lr_model.fit(X_train_tfidf, y_train)\n",
    "\n",
    "# Make predictions on the test set\n",
    "y_pred = lr_model.predict(X_test_tfidf)\n",
    "\n",
    "# Calculate accuracy\n",
    "accuracy = accuracy_score(y_test, y_pred)\n",
    "print(f\"Accuracy: {accuracy:.4f}\")"
   ]
  },
  {
   "cell_type": "markdown",
   "metadata": {},
   "source": [
    "## 6. Model Evaluation"
   ]
  },
  {
   "cell_type": "code",
   "execution_count": 12,
   "metadata": {},
   "outputs": [
    {
     "name": "stdout",
     "output_type": "stream",
     "text": [
      "Classification Report:\n",
      "              precision    recall  f1-score   support\n",
      "\n",
      "    negative       0.33      0.50      0.40         2\n",
      "     neutral       0.00      0.00      0.00         1\n",
      "    positive       0.50      0.50      0.50         2\n",
      "\n",
      "    accuracy                           0.40         5\n",
      "   macro avg       0.28      0.33      0.30         5\n",
      "weighted avg       0.33      0.40      0.36         5\n",
      "\n"
     ]
    },
    {
     "name": "stderr",
     "output_type": "stream",
     "text": [
      "c:\\python39\\lib\\site-packages\\sklearn\\metrics\\_classification.py:1509: UndefinedMetricWarning: Precision is ill-defined and being set to 0.0 in labels with no predicted samples. Use `zero_division` parameter to control this behavior.\n",
      "  _warn_prf(average, modifier, f\"{metric.capitalize()} is\", len(result))\n",
      "c:\\python39\\lib\\site-packages\\sklearn\\metrics\\_classification.py:1509: UndefinedMetricWarning: Precision is ill-defined and being set to 0.0 in labels with no predicted samples. Use `zero_division` parameter to control this behavior.\n",
      "  _warn_prf(average, modifier, f\"{metric.capitalize()} is\", len(result))\n",
      "c:\\python39\\lib\\site-packages\\sklearn\\metrics\\_classification.py:1509: UndefinedMetricWarning: Precision is ill-defined and being set to 0.0 in labels with no predicted samples. Use `zero_division` parameter to control this behavior.\n",
      "  _warn_prf(average, modifier, f\"{metric.capitalize()} is\", len(result))\n"
     ]
    }
   ],
   "source": [
    "# Generate classification report\n",
    "print(\"Classification Report:\")\n",
    "print(classification_report(y_test, y_pred))"
   ]
  },
  {
   "cell_type": "code",
   "execution_count": 13,
   "metadata": {},
   "outputs": [
    {
     "data": {
      "image/png": "[encoded data removed]",
      "text/plain": [
       "<Figure size 800x600 with 2 Axes>"
      ]
     },
     "metadata": {},
     "output_type": "display_data"
    }
   ],
   "source": [
    "# Generate confusion matrix\n",
    "cm = confusion_matrix(y_test, y_pred)\n",
    "\n",
    "# Plot confusion matrix\n",
    "plt.figure(figsize=(8, 6))\n",
    "sns.heatmap(cm, annot=True, fmt='d', cmap='Blues', xticklabels=lr_model.classes_, yticklabels=lr_model.classes_)\n",
    "plt.title('Confusion Matrix')\n",
    "plt.xlabel('Predicted')\n",
    "plt.ylabel('True')\n",
    "plt.show()"
   ]
  },
  {
   "cell_type": "markdown",
   "metadata": {},
   "source": [
    "## 7. Feature Importance Analysis\n",
    "\n",
    "Let's examine which words are most important for each sentiment class."
   ]
  },
  {
   "cell_type": "code",
   "execution_count": 14,
   "metadata": {},
   "outputs": [],
   "source": [
    "def display_important_features(model, feature_names, class_labels, n=10):\n",
    "    \"\"\"Display the most important features for each class.\"\"\"\n",
    "    for i, class_label in enumerate(class_labels):\n",
    "        print(f\"\\nTop {n} features for class '{class_label}':\")\n",
    "        \n",
    "        # Get the coefficients for the current class\n",
    "        if len(class_labels) == 2 and i == 0:\n",
    "            # For binary classification, the first class has negative coefficients\n",
    "            indices = np.argsort(model.coef_[0])\n",
    "            indices = indices[:n]\n",
    "        else:\n",
    "            # For multiclass, each class has its own coefficients\n",
    "            indices = np.argsort(model.coef_[i])\n",
    "            indices = indices[-n:]\n",
    "            \n",
    "        for idx in reversed(indices):\n",
    "            print(f\"{feature_names[idx]}: {model.coef_[i if len(class_labels) > 2 else 0][idx]:.4f}\")"
   ]
  },
  {
   "cell_type": "code",
   "execution_count": 15,
   "metadata": {},
   "outputs": [
    {
     "name": "stdout",
     "output_type": "stream",
     "text": [
      "\n",
      "Top 10 features for class 'negative':\n",
      "much: 0.2706\n",
      "purchase: 0.2549\n",
      "love: -0.4007\n",
      "product: -0.5123\n",
      "\n",
      "Top 10 features for class 'neutral':\n",
      "product: 0.2260\n",
      "love: -0.2033\n",
      "purchase: -0.2493\n",
      "much: -0.2554\n",
      "\n",
      "Top 10 features for class 'positive':\n",
      "love: 0.6040\n",
      "product: 0.2863\n",
      "purchase: -0.0056\n",
      "much: -0.0152\n"
     ]
    }
   ],
   "source": [
    "# Display important features for each sentiment class\n",
    "display_important_features(lr_model, feature_names, lr_model.classes_)"
   ]
  },
  {
   "cell_type": "markdown",
   "metadata": {},
   "source": [
    "## 8. Testing with New Reviews"
   ]
  },
  {
   "cell_type": "code",
   "execution_count": 16,
   "metadata": {},
   "outputs": [],
   "source": [
    "def predict_sentiment(review, vectorizer, model):\n",
    "    \"\"\"Predict the sentiment of a new review.\"\"\"\n",
    "    # Preprocess the review\n",
    "    processed_review = preprocess_text(review)\n",
    "    \n",
    "    # Vectorize the review\n",
    "    review_tfidf = vectorizer.transform([processed_review])\n",
    "    \n",
    "    # Predict sentiment\n",
    "    sentiment = model.predict(review_tfidf)[0]\n",
    "    \n",
    "    # Get probability scores\n",
    "    proba = model.predict_proba(review_tfidf)[0]\n",
    "    \n",
    "    return sentiment, proba"
   ]
  },
  {
   "cell_type": "code",
   "execution_count": 17,
   "metadata": {},
   "outputs": [
    {
     "name": "stdout",
     "output_type": "stream",
     "text": [
      "Review: This product is absolutely fantastic! Best purchase I've made all year.\n",
      "Predicted sentiment: negative\n",
      "Probability distribution: {'negative': 0.4194730709478998, 'neutral': 0.18901606461015588, 'positive': 0.39151086444194433}\n",
      "---\n",
      "Review: I regret buying this. It broke after one week.\n",
      "Predicted sentiment: negative\n",
      "Probability distribution: {'negative': 0.45916330740535355, 'neutral': 0.2049598184570098, 'positive': 0.33587687413763667}\n",
      "---\n",
      "Review: The product is okay, but I expected more features for the price.\n",
      "Predicted sentiment: positive\n",
      "Probability distribution: {'negative': 0.2809367700819253, 'neutral': 0.2623802304498741, 'positive': 0.45668299946820057}\n",
      "---\n"
     ]
    }
   ],
   "source": [
    "# Test with new reviews\n",
    "new_reviews = [\n",
    "    \"This product is absolutely fantastic! Best purchase I've made all year.\",\n",
    "    \"I regret buying this. It broke after one week.\",\n",
    "    \"The product is okay, but I expected more features for the price.\"\n",
    "]\n",
    "\n",
    "for review in new_reviews:\n",
    "    sentiment, proba = predict_sentiment(review, tfidf_vectorizer, lr_model)\n",
    "    print(f\"Review: {review}\")\n",
    "    print(f\"Predicted sentiment: {sentiment}\")\n",
    "    print(f\"Probability distribution: {dict(zip(lr_model.classes_, proba))}\")\n",
    "    print(\"---\")"
   ]
  },
  {
   "cell_type": "markdown",
   "metadata": {},
   "source": [
    "## 9. Conclusion\n",
    "\n",
    "In this notebook, I've demonstrated sentiment analysis on customer reviews using TF-IDF vectorization and Logistic Regression. The key steps included:\n",
    "\n",
    "1. Data loading and exploration\n",
    "2. Text preprocessing (lowercase conversion, special character removal, stopword removal, lemmatization)\n",
    "3. Feature engineering with TF-IDF vectorization\n",
    "4. Model training with Logistic Regression\n",
    "5. Model evaluation using accuracy, classification report, and confusion matrix\n",
    "6. Feature importance analysis\n",
    "7. Testing the model with new reviews\n"
   ]
  }
 ],
 "metadata": {
  "kernelspec": {
   "display_name": "Python 3",
   "language": "python",
   "name": "python3"
  },
  "language_info": {
   "codemirror_mode": {
    "name": "ipython",
    "version": 3
   },
   "file_extension": ".py",
   "mimetype": "text/x-python",
   "name": "python",
   "nbconvert_exporter": "python",
   "pygments_lexer": "ipython3",
   "version": "3.9.10"
  }
 },
 "nbformat": 4,
 "nbformat_minor": 4
}

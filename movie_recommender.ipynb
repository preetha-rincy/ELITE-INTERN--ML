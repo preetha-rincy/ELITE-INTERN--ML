{
 "cells": [
  {
   "cell_type": "markdown",
   "metadata": {},
   "source": [
    "# Movie Recommendation System\n",
    "\n",
    "This notebook implements a movie recommendation system using the MovieLens 100K dataset."
   ]
  },
  {
   "cell_type": "code",
   "execution_count": 6,
   "metadata": {},
   "outputs": [
    {
     "name": "stdout",
     "output_type": "stream",
     "text": [
      "Downloading MovieLens 100K dataset...\n",
      "Download complete. Extracting files...\n",
      "Extraction complete!\n",
      "Dataset loaded successfully!\n"
     ]
    }
   ],
   "source": [
    "import os\n",
    "import pandas as pd\n",
    "import numpy as np\n",
    "from sklearn.metrics.pairwise import cosine_similarity\n",
    "from sklearn.metrics import mean_squared_error\n",
    "import urllib.request\n",
    "import zipfile\n",
    "\n",
    "# Create data directory if it doesn't exist\n",
    "data_dir = 'Ttask-4.ml-100k'\n",
    "if not os.path.exists(data_dir):\n",
    "    os.makedirs(data_dir)\n",
    "\n",
    "# Download and extract dataset if not already present\n",
    "dataset_url = 'http://files.grouplens.org/datasets/movielens/ml-100k.zip'\n",
    "zip_path = os.path.join(data_dir, 'ml-100k.zip')\n",
    "\n",
    "if not os.path.exists(os.path.join(data_dir, 'u.data')):\n",
    "    print('Downloading MovieLens 100K dataset...')\n",
    "    try:\n",
    "        urllib.request.urlretrieve(dataset_url, zip_path)\n",
    "        print('Download complete. Extracting files...')\n",
    "        \n",
    "        with zipfile.ZipFile(zip_path, 'r') as zip_ref:\n",
    "            zip_ref.extractall(data_dir)\n",
    "        print('Extraction complete!')\n",
    "        \n",
    "        # Clean up zip file\n",
    "        os.remove(zip_path)\n",
    "    except Exception as e:\n",
    "        print(f'Error downloading or extracting dataset: {str(e)}')\n",
    "        raise\n",
    "\n",
    "# Load the data\n",
    "try:\n",
    "    ratings_df = pd.read_csv(os.path.join(data_dir, 'ml-100k', 'u.data'), \n",
    "                            sep='\\t', \n",
    "                            names=['user_id', 'movie_id', 'rating', 'timestamp'])\n",
    "    \n",
    "    movies_df = pd.read_csv(os.path.join(data_dir, 'ml-100k', 'u.item'),\n",
    "                           sep='|',\n",
    "                           encoding='latin-1',\n",
    "                           names=['movie_id', 'title', 'release_date', 'video_release_date',\n",
    "                                 'IMDb_URL', 'unknown', 'Action', 'Adventure', 'Animation',\n",
    "                                 'Children', 'Comedy', 'Crime', 'Documentary', 'Drama',\n",
    "                                 'Fantasy', 'Film-Noir', 'Horror', 'Musical', 'Mystery',\n",
    "                                 'Romance', 'Sci-Fi', 'Thriller', 'War', 'Western'])\n",
    "    \n",
    "    print('Dataset loaded successfully!')\n",
    "except Exception as e:\n",
    "    print(f'Error loading dataset: {str(e)}')\n",
    "    raise"
   ]
  },
  {
   "cell_type": "markdown",
   "metadata": {},
   "source": [
    "## Data Preparation\n",
    "\n",
    "Create the user-movie ratings matrix"
   ]
  },
  {
   "cell_type": "code",
   "execution_count": 7,
   "metadata": {},
   "outputs": [
    {
     "name": "stdout",
     "output_type": "stream",
     "text": [
      "Shape of ratings matrix: (943, 1682)\n"
     ]
    }
   ],
   "source": [
    "# Create the user-movie ratings matrix\n",
    "ratings_matrix = ratings_df.pivot(index='user_id', \n",
    "                                 columns='movie_id', \n",
    "                                 values='rating').fillna(0)\n",
    "\n",
    "print(f'Shape of ratings matrix: {ratings_matrix.shape}')"
   ]
  },
  {
   "cell_type": "markdown",
   "metadata": {},
   "source": [
    "## Implement User-Based Collaborative Filtering"
   ]
  },
  {
   "cell_type": "code",
   "execution_count": 9,
   "metadata": {},
   "outputs": [
    {
     "name": "stdout",
     "output_type": "stream",
     "text": [
      "\n",
      "Top 5 movie recommendations for user 1:\n",
      "Movie: Schindler's List (1993), Predicted Rating: 2.04\n",
      "Movie: E.T. the Extra-Terrestrial (1982), Predicted Rating: 1.87\n",
      "Movie: One Flew Over the Cuckoo's Nest (1975), Predicted Rating: 1.79\n",
      "Movie: English Patient, The (1996), Predicted Rating: 1.74\n",
      "Movie: Scream (1996), Predicted Rating: 1.70\n"
     ]
    }
   ],
   "source": [
    "def get_user_similarities(ratings_matrix):\n",
    "    \"\"\"Calculate similarity between users using cosine similarity.\"\"\"\n",
    "    return cosine_similarity(ratings_matrix)\n",
    "\n",
    "def get_user_recommendations(user_id, ratings_matrix, similarity_matrix, n_recommendations=5):\n",
    "    \"\"\"Generate movie recommendations for a user.\n",
    "    \n",
    "    Args:\n",
    "        user_id: The ID of the user to generate recommendations for\n",
    "        ratings_matrix: The user-movie ratings matrix\n",
    "        similarity_matrix: Matrix of user similarities\n",
    "        n_recommendations: Number of recommendations to generate\n",
    "        \n",
    "    Returns:\n",
    "        List of recommended movie IDs\n",
    "    \"\"\"\n",
    "    user_idx = ratings_matrix.index.get_loc(user_id)\n",
    "    user_similarities = similarity_matrix[user_idx]\n",
    "    \n",
    "    # Get movies the user hasn't rated\n",
    "    user_ratings = ratings_matrix.iloc[user_idx]\n",
    "    unrated_movies = user_ratings[user_ratings == 0].index\n",
    "    \n",
    "    # Calculate predicted ratings\n",
    "    predictions = []\n",
    "    for movie_id in unrated_movies:\n",
    "        movie_ratings = ratings_matrix[movie_id]\n",
    "        pred_rating = np.sum(user_similarities * movie_ratings) / np.sum(np.abs(user_similarities))\n",
    "        predictions.append((movie_id, pred_rating))\n",
    "    \n",
    "    # Sort and return top N recommendations\n",
    "    predictions.sort(key=lambda x: x[1], reverse=True)\n",
    "    return predictions[:n_recommendations]\n",
    "\n",
    "# Calculate user similarities\n",
    "similarity_matrix = get_user_similarities(ratings_matrix)\n",
    "\n",
    "# Example: Get recommendations for user 1\n",
    "user_id = 1\n",
    "recommendations = get_user_recommendations(user_id, ratings_matrix, similarity_matrix)\n",
    "\n",
    "print(f'\\nTop 5 movie recommendations for user {user_id}:')\n",
    "for movie_id, pred_rating in recommendations:\n",
    "    movie_title = movies_df[movies_df['movie_id'] == movie_id]['title'].iloc[0]\n",
    "    print(f'Movie: {movie_title}, Predicted Rating: {pred_rating:.2f}')"
   ]
  },
  {
   "cell_type": "markdown",
   "metadata": {},
   "source": [
    "## Evaluate the Recommendation System"
   ]
  },
  {
   "cell_type": "code",
   "execution_count": 10,
   "metadata": {},
   "outputs": [
    {
     "name": "stderr",
     "output_type": "stream",
     "text": [
      "C:\\Users\\Gayathri Prasad\\AppData\\Local\\Temp\\ipykernel_16208\\935425417.py:22: FutureWarning: ChainedAssignmentError: behaviour will change in pandas 3.0!\n",
      "You are setting values through chained assignment. Currently this works in certain cases, but when using Copy-on-Write (which will become the default behaviour in pandas 3.0) this will never work to update the original DataFrame or Series, because the intermediate object on which we are setting values will behave as a copy.\n",
      "A typical example is when you are setting values in a column of a DataFrame, like:\n",
      "\n",
      "df[\"col\"][row_indexer] = value\n",
      "\n",
      "Use `df.loc[row_indexer, \"col\"] = values` instead, to perform the assignment in a single step and ensure this keeps updating the original `df`.\n",
      "\n",
      "See the caveats in the documentation: https://pandas.pydata.org/pandas-docs/stable/user_guide/indexing.html#returning-a-view-versus-a-copy\n",
      "\n",
      "  temp_ratings.iloc[user_idx][movie_id] = 0\n"
     ]
    },
    {
     "name": "stdout",
     "output_type": "stream",
     "text": [
      "\n",
      "Root Mean Square Error: 2.8176\n"
     ]
    }
   ],
   "source": [
    "def calculate_rmse(ratings_matrix, similarity_matrix, test_size=0.2):\n",
    "    \"\"\"Calculate RMSE for the recommendation system.\"\"\"\n",
    "    n_users, n_movies = ratings_matrix.shape\n",
    "    test_ratings = []\n",
    "    predictions = []\n",
    "    \n",
    "    # For each user, hide some ratings and try to predict them\n",
    "    for user_idx in range(n_users):\n",
    "        user_ratings = ratings_matrix.iloc[user_idx]\n",
    "        rated_movies = user_ratings[user_ratings > 0].index\n",
    "        \n",
    "        if len(rated_movies) > 0:\n",
    "            # Select random movies to test\n",
    "            n_test = max(1, int(len(rated_movies) * test_size))\n",
    "            test_movies = np.random.choice(rated_movies, n_test, replace=False)\n",
    "            \n",
    "            for movie_id in test_movies:\n",
    "                actual_rating = ratings_matrix.iloc[user_idx][movie_id]\n",
    "                \n",
    "                # Temporarily set rating to 0 for prediction\n",
    "                temp_ratings = ratings_matrix.copy()\n",
    "                temp_ratings.iloc[user_idx][movie_id] = 0\n",
    "                \n",
    "                # Calculate predicted rating\n",
    "                movie_ratings = temp_ratings[movie_id]\n",
    "                pred_rating = np.sum(similarity_matrix[user_idx] * movie_ratings) / \\\n",
    "                             np.sum(np.abs(similarity_matrix[user_idx]))\n",
    "                \n",
    "                test_ratings.append(actual_rating)\n",
    "                predictions.append(pred_rating)\n",
    "    \n",
    "    return np.sqrt(mean_squared_error(test_ratings, predictions))\n",
    "\n",
    "# Calculate RMSE\n",
    "rmse = calculate_rmse(ratings_matrix, similarity_matrix)\n",
    "print(f'\\nRoot Mean Square Error: {rmse:.4f}')"
   ]
  }
 ],
 "metadata": {
  "kernelspec": {
   "display_name": "Python 3",
   "language": "python",
   "name": "python3"
  },
  "language_info": {
   "codemirror_mode": {
    "name": "ipython",
    "version": 3
   },
   "file_extension": ".py",
   "mimetype": "text/x-python",
   "name": "python",
   "nbconvert_exporter": "python",
   "pygments_lexer": "ipython3",
   "version": "3.8.0"
  }
 },
 "nbformat": 4,
 "nbformat_minor": 4
}
